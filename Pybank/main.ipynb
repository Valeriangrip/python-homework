{
 "cells": [
  {
   "cell_type": "code",
   "execution_count": 38,
   "id": "01529f15-f20f-47c3-bf67-728943bb9e0f",
   "metadata": {},
   "outputs": [],
   "source": [
    "# Import from the pathlib/csv library, the main class Path\n",
    "from pathlib import Path\n",
    "import csv"
   ]
  },
  {
   "cell_type": "code",
   "execution_count": 39,
   "id": "fc1c68ea-34e5-4afd-9dd8-b4c6be25f4ec",
   "metadata": {},
   "outputs": [],
   "source": [
    "#setup input file\n",
    "inputfile = Path(\"budget_data.csv\")"
   ]
  },
  {
   "cell_type": "code",
   "execution_count": 40,
   "id": "a36862b7-495a-44fb-b982-b50b26844ffe",
   "metadata": {},
   "outputs": [],
   "source": [
    "#initialize total months , net total profit/losses variables\n",
    "records=[]\n",
    "total_months=0\n",
    "net_profit_losses=[]\n",
    "#check datatype "
   ]
  },
  {
   "cell_type": "code",
   "execution_count": 41,
   "id": "dc3e7ad4-4057-43db-a21d-81d9973ad5a3",
   "metadata": {},
   "outputs": [],
   "source": [
    "#read the inputfile into a csvfile object named text\n",
    "with open(inputfile, 'r') as csvfile:\n",
    "#datatype of new object\n",
    "    #print(type(csvfile))\n",
    "    text = csv.reader(csvfile, delimiter=',')\n",
    "#claim next header\n",
    "    header = next(text)\n",
    "#check type of text\n",
    "    #print(type(text))\n",
    "#calculate total number of months & net profit losses\n",
    "    for row in text:\n",
    "        records.append(row)\n",
    "        total_months+=1\n",
    "        net_profit_losses.append(int(row[1]))\n"
   ]
  },
  {
   "cell_type": "code",
   "execution_count": 42,
   "id": "2f579bd4-7d03-45ba-9d7c-4dda98728128",
   "metadata": {},
   "outputs": [],
   "source": [
    "#calculate changes averages, min, max\n",
    "change_values = []\n",
    "\n",
    "for i, record in enumerate(records):\n",
    "    if (i > 0):\n",
    "        change = []\n",
    "        change.append(record[0])\n",
    "        difference = int(record[1]) - int(records[i - 1][1])\n",
    "        change.append(difference)\n",
    "        change_values.append(difference)\n",
    "        changes.append(change)\n",
    "        \n",
    "min_change = changes[0]\n",
    "max_change = changes[0]\n",
    "\n",
    "#print(min_change[0], min_change[1])\n",
    "#print(max_change[0], max_change[1])\n",
    "\n",
    "for change in changes:\n",
    "    if (change[1] < min_change[1]):\n",
    "        min_change = change\n",
    "    if (change[1] > max_change[1]):\n",
    "        max_change = change      \n",
    "        \n",
    "#print(min_change[0], min_change[1])\n",
    "#print(max_change[0], max_change[1])"
   ]
  },
  {
   "cell_type": "code",
   "execution_count": 50,
   "id": "9fd7eb6d-14b0-4cc7-a25a-f4680ffb5225",
   "metadata": {},
   "outputs": [
    {
     "name": "stdout",
     "output_type": "stream",
     "text": [
      "Financial Analysis\n",
      "----------------------------\n",
      "Total Months: 86\n",
      "Total: $38382578\n",
      "Average Change: $-2315.12\n",
      "Greatest Increase in Profits: Feb-2012 $1926159\n",
      "Greatest Decrease in Profits: Sep-2013 $-2196167\n"
     ]
    }
   ],
   "source": [
    "#print results\n",
    "#The total number of months included in the dataset.\n",
    "#The net total amount of Profit/Losses over the entire period.\n",
    "#The average of the changes in Profit/Losses over the entire period.\n",
    "#The greatest increase in profits (date and amount) over the entire period.\n",
    "#The greatest decrease in losses (date and amount) over the entire period.\n",
    "print(\"Financial Analysis\")\n",
    "print(\"----------------------------\")\n",
    "print(\"Total Months: \" + str(total_months))\n",
    "print(\"Total: $\" + str(sum(net_profit_losses)))\n",
    "print(\"Average Change: $\" + str(round(sum(change_values)/len(change_values), 2)))\n",
    "print(\"Greatest Increase in Profits: \" + max_change[0] + \" $\" + str(max_change[1]))\n",
    "print(\"Greatest Decrease in Profits: \" + min_change[0] + \" $\" + str(min_change[1]))"
   ]
  },
  {
   "cell_type": "code",
   "execution_count": null,
   "id": "a7f5e6b9-6017-45a1-8bcb-5351f7456dd8",
   "metadata": {},
   "outputs": [],
   "source": []
  },
  {
   "cell_type": "code",
   "execution_count": null,
   "id": "566ad91e-fbaa-4b39-9d12-9054ec1e183d",
   "metadata": {},
   "outputs": [],
   "source": []
  },
  {
   "cell_type": "code",
   "execution_count": null,
   "id": "473dcfc0-4a68-4a95-8cd3-69aa4080dbdd",
   "metadata": {},
   "outputs": [],
   "source": []
  }
 ],
 "metadata": {
  "kernelspec": {
   "display_name": "Python 3 (ipykernel)",
   "language": "python",
   "name": "python3"
  },
  "language_info": {
   "codemirror_mode": {
    "name": "ipython",
    "version": 3
   },
   "file_extension": ".py",
   "mimetype": "text/x-python",
   "name": "python",
   "nbconvert_exporter": "python",
   "pygments_lexer": "ipython3",
   "version": "3.8.8"
  }
 },
 "nbformat": 4,
 "nbformat_minor": 5
}
