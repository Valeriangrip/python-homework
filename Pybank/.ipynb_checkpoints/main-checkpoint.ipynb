{
 "cells": [
  {
   "cell_type": "code",
   "execution_count": 2,
   "id": "01529f15-f20f-47c3-bf67-728943bb9e0f",
   "metadata": {},
   "outputs": [],
   "source": [
    "# Import from the pathlib/csv library, the main class Path\n",
    "from pathlib import Path\n",
    "import csv"
   ]
  },
  {
   "cell_type": "code",
   "execution_count": 3,
   "id": "fc1c68ea-34e5-4afd-9dd8-b4c6be25f4ec",
   "metadata": {},
   "outputs": [],
   "source": [
    "#setup input file\n",
    "inputfile = Path(\"budget_data.csv\")"
   ]
  },
  {
   "cell_type": "code",
   "execution_count": 4,
   "id": "a36862b7-495a-44fb-b982-b50b26844ffe",
   "metadata": {},
   "outputs": [],
   "source": [
    "#initialize total months , net total profit/losses variables, counter\n",
    "records=[]\n",
    "total_months=0\n",
    "net_profit_losses=[]\n",
    "counter=0\n",
    "changes=[]\n",
    "#check datatype "
   ]
  },
  {
   "cell_type": "code",
   "execution_count": 5,
   "id": "dc3e7ad4-4057-43db-a21d-81d9973ad5a3",
   "metadata": {},
   "outputs": [],
   "source": [
    "#read the inputfile into a csvfile object named text\n",
    "with open(inputfile, 'r') as csvfile:\n",
    "#datatype of new object\n",
    "    #print(type(csvfile))\n",
    "    text = csv.reader(csvfile, delimiter=',')\n",
    "#claim next header\n",
    "    header = next(text)\n",
    "#check type of text\n",
    "    #print(type(text))\n",
    "#calculate total number of months & net profit losses\n",
    "    for row in text:\n",
    "        records.append(row)\n",
    "        total_months+=1\n",
    "        net_profit_losses.append(int(row[1]))\n"
   ]
  },
  {
   "cell_type": "code",
   "execution_count": 7,
   "id": "2f579bd4-7d03-45ba-9d7c-4dda98728128",
   "metadata": {},
   "outputs": [
    {
     "name": "stdout",
     "output_type": "stream",
     "text": [
      "Financial Analysis\n",
      "----------------------------\n",
      "Total Months: 86\n",
      "Total: $38382578\n"
     ]
    }
   ],
   "source": [
    "#print results\n",
    "#The total number of months included in the dataset.\n",
    "#The net total amount of Profit/Losses over the entire period.\n",
    "#The average of the changes in Profit/Losses over the entire period.\n",
    "#The greatest increase in profits (date and amount) over the entire period.\n",
    "#The greatest decrease in losses (date and amount) over the entire period.\n",
    "print(\"Financial Analysis\")\n",
    "print(\"----------------------------\")\n",
    "print(\"Total Months: \" + str(total_months))\n",
    "print(\"Total: $\" + str(sum(net_profit_losses)))"
   ]
  },
  {
   "cell_type": "code",
   "execution_count": null,
   "id": "9fd7eb6d-14b0-4cc7-a25a-f4680ffb5225",
   "metadata": {},
   "outputs": [],
   "source": []
  },
  {
   "cell_type": "code",
   "execution_count": null,
   "id": "a7f5e6b9-6017-45a1-8bcb-5351f7456dd8",
   "metadata": {},
   "outputs": [],
   "source": []
  },
  {
   "cell_type": "code",
   "execution_count": null,
   "id": "566ad91e-fbaa-4b39-9d12-9054ec1e183d",
   "metadata": {},
   "outputs": [],
   "source": []
  },
  {
   "cell_type": "code",
   "execution_count": null,
   "id": "473dcfc0-4a68-4a95-8cd3-69aa4080dbdd",
   "metadata": {},
   "outputs": [],
   "source": []
  }
 ],
 "metadata": {
  "kernelspec": {
   "display_name": "Python 3 (ipykernel)",
   "language": "python",
   "name": "python3"
  },
  "language_info": {
   "codemirror_mode": {
    "name": "ipython",
    "version": 3
   },
   "file_extension": ".py",
   "mimetype": "text/x-python",
   "name": "python",
   "nbconvert_exporter": "python",
   "pygments_lexer": "ipython3",
   "version": "3.8.8"
  }
 },
 "nbformat": 4,
 "nbformat_minor": 5
}
