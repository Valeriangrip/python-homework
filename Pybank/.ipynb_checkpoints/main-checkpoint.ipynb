{
 "cells": [
  {
   "cell_type": "code",
   "execution_count": 84,
   "id": "01529f15-f20f-47c3-bf67-728943bb9e0f",
   "metadata": {},
   "outputs": [],
   "source": [
    "# Import from the pathlib/csv library, the main class Path\n",
    "from pathlib import Path\n",
    "import csv"
   ]
  },
  {
   "cell_type": "code",
   "execution_count": 85,
   "id": "fc1c68ea-34e5-4afd-9dd8-b4c6be25f4ec",
   "metadata": {},
   "outputs": [],
   "source": [
    "#setup input file\n",
    "inputfile = Path(\"budget_data.csv\")"
   ]
  },
  {
   "cell_type": "code",
   "execution_count": 86,
   "id": "a36862b7-495a-44fb-b982-b50b26844ffe",
   "metadata": {},
   "outputs": [],
   "source": [
    "#initialize total months , net total profit/losses variables, counter\n",
    "total_months=0\n",
    "netprofitlosses=0\n",
    "counter=1\n",
    "#check datatype "
   ]
  },
  {
   "cell_type": "code",
   "execution_count": 97,
   "id": "dc3e7ad4-4057-43db-a21d-81d9973ad5a3",
   "metadata": {},
   "outputs": [
    {
     "name": "stdout",
     "output_type": "stream",
     "text": [
      "<class '_io.TextIOWrapper'>\n",
      "<class '_csv.reader'>\n"
     ]
    },
    {
     "ename": "TypeError",
     "evalue": "'_csv.reader' object is not subscriptable",
     "output_type": "error",
     "traceback": [
      "\u001b[1;31m---------------------------------------------------------------------------\u001b[0m",
      "\u001b[1;31mTypeError\u001b[0m                                 Traceback (most recent call last)",
      "\u001b[1;32mC:\\Users\\IRONCO~2\\AppData\\Local\\Temp/ipykernel_11356/2313123690.py\u001b[0m in \u001b[0;36m<module>\u001b[1;34m\u001b[0m\n\u001b[0;32m     10\u001b[0m \u001b[1;31m#calculate total number of months\u001b[0m\u001b[1;33m\u001b[0m\u001b[1;33m\u001b[0m\u001b[1;33m\u001b[0m\u001b[0m\n\u001b[0;32m     11\u001b[0m     \u001b[1;32mfor\u001b[0m \u001b[0mrow\u001b[0m \u001b[1;32min\u001b[0m \u001b[0mtext\u001b[0m\u001b[1;33m:\u001b[0m\u001b[1;33m\u001b[0m\u001b[1;33m\u001b[0m\u001b[0m\n\u001b[1;32m---> 12\u001b[1;33m         \u001b[0mnetprofitlosses\u001b[0m\u001b[1;33m+=\u001b[0m\u001b[0mtext\u001b[0m\u001b[1;33m[\u001b[0m\u001b[1;36m1\u001b[0m\u001b[1;33m]\u001b[0m\u001b[1;33m\u001b[0m\u001b[1;33m\u001b[0m\u001b[0m\n\u001b[0m",
      "\u001b[1;31mTypeError\u001b[0m: '_csv.reader' object is not subscriptable"
     ]
    }
   ],
   "source": [
    "#read the inputfile into a csvfile object named text\n",
    "with open(inputfile, 'r') as csvfile:\n",
    "#datatype of new object\n",
    "    print(type(csvfile))\n",
    "    text = csv.reader(csvfile, delimiter=',')\n",
    "#claim next header\n",
    "    header = next(text)\n",
    "#check type of text\n",
    "    print(type(text))\n",
    "#calculate total number of months\n",
    "    for row in text:\n",
    "        print(\"test\")"
   ]
  },
  {
   "cell_type": "code",
   "execution_count": 93,
   "id": "9fd7eb6d-14b0-4cc7-a25a-f4680ffb5225",
   "metadata": {},
   "outputs": [
    {
     "ename": "IndentationError",
     "evalue": "unexpected indent (Temp/ipykernel_11356/1969122655.py, line 2)",
     "output_type": "error",
     "traceback": [
      "\u001b[1;36m  File \u001b[1;32m\"C:\\Users\\IRONCO~2\\AppData\\Local\\Temp/ipykernel_11356/1969122655.py\"\u001b[1;36m, line \u001b[1;32m2\u001b[0m\n\u001b[1;33m    for row in text:\u001b[0m\n\u001b[1;37m    ^\u001b[0m\n\u001b[1;31mIndentationError\u001b[0m\u001b[1;31m:\u001b[0m unexpected indent\n"
     ]
    }
   ],
   "source": []
  },
  {
   "cell_type": "code",
   "execution_count": null,
   "id": "a7f5e6b9-6017-45a1-8bcb-5351f7456dd8",
   "metadata": {},
   "outputs": [],
   "source": []
  }
 ],
 "metadata": {
  "kernelspec": {
   "display_name": "Python 3 (ipykernel)",
   "language": "python",
   "name": "python3"
  },
  "language_info": {
   "codemirror_mode": {
    "name": "ipython",
    "version": 3
   },
   "file_extension": ".py",
   "mimetype": "text/x-python",
   "name": "python",
   "nbconvert_exporter": "python",
   "pygments_lexer": "ipython3",
   "version": "3.8.8"
  }
 },
 "nbformat": 4,
 "nbformat_minor": 5
}
