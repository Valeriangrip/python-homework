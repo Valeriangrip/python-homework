{
 "cells": [
  {
   "cell_type": "code",
   "execution_count": 51,
   "id": "01529f15-f20f-47c3-bf67-728943bb9e0f",
   "metadata": {},
   "outputs": [],
   "source": [
    "# Import from the pathlib/csv library, the main class Path\n",
    "from pathlib import Path\n",
    "import csv"
   ]
  },
  {
   "cell_type": "code",
   "execution_count": 52,
   "id": "fc1c68ea-34e5-4afd-9dd8-b4c6be25f4ec",
   "metadata": {},
   "outputs": [],
   "source": [
    "# function to calculate average for a list of values\n",
    "def calculate_average(values):\n",
    "    \"\"\"\n",
    "    Calculates average for a list of values.\n",
    "    Args:\n",
    "        values (list): The list of values\n",
    "    Returns:\n",
    "        The average.\n",
    "    \"\"\"\n",
    "    return sum(values)/len(values)"
   ]
  },
  {
   "cell_type": "code",
   "execution_count": 53,
   "id": "a36862b7-495a-44fb-b982-b50b26844ffe",
   "metadata": {},
   "outputs": [],
   "source": [
    "# function to print a list of values\n",
    "def print_list(values):\n",
    "    \"\"\"\n",
    "    Prints a list of values line by line.\n",
    "    Args:\n",
    "        values (list): The list of values\n",
    "    \"\"\"\n",
    "    for result in results_list:\n",
    "        print(result)"
   ]
  },
  {
   "cell_type": "code",
   "execution_count": 54,
   "id": "dc3e7ad4-4057-43db-a21d-81d9973ad5a3",
   "metadata": {},
   "outputs": [],
   "source": [
    "# function to export a list of values to a text file\n",
    "def export_list(values, path):\n",
    "    \"\"\"\n",
    "    Prints a list of values line by line.\n",
    "    Args:\n",
    "        values (list): The list of values\n",
    "    \"\"\"\n",
    "    with open(path, 'w') as file:\n",
    "        for value in values:\n",
    "            file.write(value + \"\\n\")"
   ]
  },
  {
   "cell_type": "code",
   "execution_count": 55,
   "id": "2f579bd4-7d03-45ba-9d7c-4dda98728128",
   "metadata": {},
   "outputs": [],
   "source": [
    "# setup input file\n",
    "inputfile = Path(\"budget_data.csv\")"
   ]
  },
  {
   "cell_type": "code",
   "execution_count": 56,
   "id": "9fd7eb6d-14b0-4cc7-a25a-f4680ffb5225",
   "metadata": {},
   "outputs": [],
   "source": [
    "# initialize total months, net total profit/losses variables, counter\n",
    "records = []\n",
    "total_months = 0\n",
    "net_profit_losses = []"
   ]
  },
  {
   "cell_type": "code",
   "execution_count": 57,
   "id": "a7f5e6b9-6017-45a1-8bcb-5351f7456dd8",
   "metadata": {},
   "outputs": [],
   "source": [
    "# read the inputfile into a csvfile object named text\n",
    "with open(inputfile, 'r') as csvfile:   \n",
    "    text = csv.reader(csvfile, delimiter=',')\n",
    "    # claim next header\n",
    "    header = next(text)  \n",
    "    # add record, profitloss, and increment month count\n",
    "    for row in text:\n",
    "        records.append(row)\n",
    "        net_profit_losses.append(int(row[1]))\n",
    "        total_months+=1"
   ]
  },
  {
   "cell_type": "code",
   "execution_count": 58,
   "id": "566ad91e-fbaa-4b39-9d12-9054ec1e183d",
   "metadata": {},
   "outputs": [],
   "source": [
    "# initialize lists for change records (date, value) and value only\n",
    "change_records = []\n",
    "change_values = []\n",
    "\n",
    "# enumerate for indexing and populate lists with records\n",
    "for i, record in enumerate(records):\n",
    "    # skip first record\n",
    "    if (i > 0):\n",
    "        # array for date and value\n",
    "        change_record = []\n",
    "        # add date\n",
    "        change_record.append(record[0])\n",
    "        # calculate difference and add to change record\n",
    "        difference = int(record[1]) - int(records[i - 1][1])\n",
    "        change_record.append(difference)\n",
    "        # add to lists\n",
    "        change_values.append(difference)\n",
    "        change_records.append(change_record)"
   ]
  },
  {
   "cell_type": "code",
   "execution_count": 59,
   "id": "473dcfc0-4a68-4a95-8cd3-69aa4080dbdd",
   "metadata": {},
   "outputs": [],
   "source": [
    "# set initial min and max to first change\n",
    "min_change = change_records[0]\n",
    "max_change = change_records[0]\n",
    "\n",
    "# iterate through changes to set min and max change\n",
    "for change in change_records:\n",
    "    if (change[1] < min_change[1]):\n",
    "        min_change = change\n",
    "    if (change[1] > max_change[1]):\n",
    "        max_change = change"
   ]
  },
  {
   "cell_type": "code",
   "execution_count": 60,
   "id": "01a5910d-9ad7-4e21-abb8-4fb5b711baf1",
   "metadata": {},
   "outputs": [
    {
     "name": "stdout",
     "output_type": "stream",
     "text": [
      "Financial Analysis\n",
      "----------------------------\n",
      "Total Months: 86\n",
      "Total: $38382578\n",
      "Average Change: $-2315.12\n",
      "Greatest Increase in Profits: Feb-2012 $1926159\n",
      "Greatest Decrease in Profits: Sep-2013 $-2196167\n"
     ]
    }
   ],
   "source": [
    "# strings to report results and analysis\n",
    "header_text = \"Financial Analysis\"\n",
    "divider_text = \"----------------------------\"\n",
    "# The total number of months included in the dataset.\n",
    "months_text = \"Total Months: \" + str(total_months)\n",
    "# The net total amount of Profit/Losses over the entire period.\n",
    "total_text = \"Total: $\" + str(sum(net_profit_losses))\n",
    "# The average of the changes in Profit/Losses over the entire period.\n",
    "avg_text = \"Average Change: $\" + str(round(calculate_average(change_values), 2))\n",
    "# The greatest increase in profits (date and amount) over the entire period.\n",
    "increases_text = \"Greatest Increase in Profits: \" + max_change[0] + \" $\" + str(max_change[1])\n",
    "# The greatest decrease in losses (date and amount) over the entire period.\n",
    "decrease_text = \"Greatest Decrease in Profits: \" + min_change[0] + \" $\" + str(min_change[1])\n",
    "\n",
    "# add to a list for printing and export\n",
    "results_list = [header_text, divider_text, months_text, total_text, avg_text, increases_text, decrease_text]\n",
    "\n",
    "print_list(results_list)\n",
    "\n",
    "output = Path(\"output.txt\")\n",
    "export_list(results_list, output)"
   ]
  },
  {
   "cell_type": "code",
   "execution_count": null,
   "id": "f66b9257-e924-48d1-a27f-2bd578d58fa1",
   "metadata": {},
   "outputs": [],
   "source": []
  },
  {
   "cell_type": "code",
   "execution_count": null,
   "id": "0237b8e9-2e4f-40b3-bcee-682c19d1c0a3",
   "metadata": {},
   "outputs": [],
   "source": []
  }
 ],
 "metadata": {
  "kernelspec": {
   "display_name": "Python 3 (ipykernel)",
   "language": "python",
   "name": "python3"
  },
  "language_info": {
   "codemirror_mode": {
    "name": "ipython",
    "version": 3
   },
   "file_extension": ".py",
   "mimetype": "text/x-python",
   "name": "python",
   "nbconvert_exporter": "python",
   "pygments_lexer": "ipython3",
   "version": "3.8.8"
  }
 },
 "nbformat": 4,
 "nbformat_minor": 5
}
